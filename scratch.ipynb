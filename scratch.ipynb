{
  "nbformat": 4,
  "nbformat_minor": 0,
  "metadata": {
    "colab": {
      "name": "scratch.ipynb",
      "provenance": []
    },
    "kernelspec": {
      "name": "python3",
      "display_name": "Python 3"
    }
  },
  "cells": [
    {
      "cell_type": "markdown",
      "metadata": {
        "id": "sGFhtrV7y_0d"
      },
      "source": [
        "This notebook will be used for a Coursera capstone project"
      ]
    },
    {
      "cell_type": "code",
      "metadata": {
        "id": "gcpf8WwALf5P"
      },
      "source": [
        "import pandas as pd\n",
        "import numpy as np"
      ],
      "execution_count": null,
      "outputs": []
    },
    {
      "cell_type": "code",
      "metadata": {
        "colab": {
          "base_uri": "https://localhost:8080/"
        },
        "id": "P_4VdYSVzWtO",
        "outputId": "9262015f-de83-4b33-b684-82daf7d4dd26"
      },
      "source": [
        "print('Hello Capstone Project Course!')"
      ],
      "execution_count": null,
      "outputs": [
        {
          "output_type": "stream",
          "text": [
            "Hello Capstone Project Course!\n"
          ],
          "name": "stdout"
        }
      ]
    }
  ]
}